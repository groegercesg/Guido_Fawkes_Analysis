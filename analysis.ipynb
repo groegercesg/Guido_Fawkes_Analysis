{
 "cells": [
  {
   "cell_type": "code",
   "execution_count": 15,
   "metadata": {},
   "outputs": [],
   "source": [
    "import pandas as pd\n",
    "articleDetails = pd.read_pickle('article_details.pkl')"
   ]
  },
  {
   "cell_type": "code",
   "execution_count": 16,
   "metadata": {},
   "outputs": [
    {
     "data": {
      "text/html": [
       "<div>\n",
       "<style scoped>\n",
       "    .dataframe tbody tr th:only-of-type {\n",
       "        vertical-align: middle;\n",
       "    }\n",
       "\n",
       "    .dataframe tbody tr th {\n",
       "        vertical-align: top;\n",
       "    }\n",
       "\n",
       "    .dataframe thead th {\n",
       "        text-align: right;\n",
       "    }\n",
       "</style>\n",
       "<table border=\"1\" class=\"dataframe\">\n",
       "  <thead>\n",
       "    <tr style=\"text-align: right;\">\n",
       "      <th></th>\n",
       "      <th>Date</th>\n",
       "      <th>Link</th>\n",
       "      <th>Title</th>\n",
       "      <th>Article Details</th>\n",
       "      <th>Post Time</th>\n",
       "      <th>List Links</th>\n",
       "    </tr>\n",
       "  </thead>\n",
       "  <tbody>\n",
       "    <tr>\n",
       "      <th>0</th>\n",
       "      <td>2022-06-04</td>\n",
       "      <td>https://order-order.com/2022/06/04/saturday-7-...</td>\n",
       "      <td>Saturday 7-Up</td>\n",
       "      <td>This week 158,742 visitors visited 452,385 tim...</td>\n",
       "      <td>07:35</td>\n",
       "      <td>[EXCLUSIVE: Yvette Cooper’s Son Led Trans Righ...</td>\n",
       "    </tr>\n",
       "    <tr>\n",
       "      <th>1</th>\n",
       "      <td>2022-05-28</td>\n",
       "      <td>https://order-order.com/2022/05/28/saturday-7-...</td>\n",
       "      <td>Saturday 7-Up</td>\n",
       "      <td>This week 192,138 visitors visited 604,322 tim...</td>\n",
       "      <td>07:30</td>\n",
       "      <td>[Jess Phillips Investigation Concludes Multipl...</td>\n",
       "    </tr>\n",
       "    <tr>\n",
       "      <th>2</th>\n",
       "      <td>2022-05-21</td>\n",
       "      <td>https://order-order.com/2022/05/21/saturday-7-...</td>\n",
       "      <td>Saturday 7-Up</td>\n",
       "      <td>This week 201,390 visitors visited 582,067 tim...</td>\n",
       "      <td>07:30</td>\n",
       "      <td>[Andrew Rosindell’s Office Not Answering Queri...</td>\n",
       "    </tr>\n",
       "    <tr>\n",
       "      <th>3</th>\n",
       "      <td>2022-05-07</td>\n",
       "      <td>https://order-order.com/2022/05/07/saturday-7-...</td>\n",
       "      <td>Saturday 7-Up</td>\n",
       "      <td></td>\n",
       "      <td>07:30</td>\n",
       "      <td>[LibDem Candidate’s Pornstar Sideline Revealed...</td>\n",
       "    </tr>\n",
       "    <tr>\n",
       "      <th>4</th>\n",
       "      <td>2022-04-30</td>\n",
       "      <td>https://order-order.com/2022/04/30/saturday-7-...</td>\n",
       "      <td>Saturday 7-Up</td>\n",
       "      <td></td>\n",
       "      <td>07:30</td>\n",
       "      <td>[Flashback: What They Said At the Time, READ I...</td>\n",
       "    </tr>\n",
       "  </tbody>\n",
       "</table>\n",
       "</div>"
      ],
      "text/plain": [
       "        Date                                               Link  \\\n",
       "0 2022-06-04  https://order-order.com/2022/06/04/saturday-7-...   \n",
       "1 2022-05-28  https://order-order.com/2022/05/28/saturday-7-...   \n",
       "2 2022-05-21  https://order-order.com/2022/05/21/saturday-7-...   \n",
       "3 2022-05-07  https://order-order.com/2022/05/07/saturday-7-...   \n",
       "4 2022-04-30  https://order-order.com/2022/04/30/saturday-7-...   \n",
       "\n",
       "           Title                                    Article Details Post Time  \\\n",
       "0  Saturday 7-Up  This week 158,742 visitors visited 452,385 tim...     07:35   \n",
       "1  Saturday 7-Up  This week 192,138 visitors visited 604,322 tim...     07:30   \n",
       "2  Saturday 7-Up  This week 201,390 visitors visited 582,067 tim...     07:30   \n",
       "3  Saturday 7-Up                                                        07:30   \n",
       "4  Saturday 7-Up                                                        07:30   \n",
       "\n",
       "                                          List Links  \n",
       "0  [EXCLUSIVE: Yvette Cooper’s Son Led Trans Righ...  \n",
       "1  [Jess Phillips Investigation Concludes Multipl...  \n",
       "2  [Andrew Rosindell’s Office Not Answering Queri...  \n",
       "3  [LibDem Candidate’s Pornstar Sideline Revealed...  \n",
       "4  [Flashback: What They Said At the Time, READ I...  "
      ]
     },
     "execution_count": 16,
     "metadata": {},
     "output_type": "execute_result"
    }
   ],
   "source": [
    "articleDetails.head()"
   ]
  },
  {
   "cell_type": "code",
   "execution_count": 18,
   "metadata": {},
   "outputs": [
    {
     "name": "stdout",
     "output_type": "stream",
     "text": [
      "        Date                                               Link  \\\n",
      "3 2022-05-07  https://order-order.com/2022/05/07/saturday-7-...   \n",
      "\n",
      "           Title Article Details Post Time  \\\n",
      "3  Saturday 7-Up                     07:30   \n",
      "\n",
      "                                          List Links  \n",
      "3  [LibDem Candidate’s Pornstar Sideline Revealed...  \n"
     ]
    },
    {
     "data": {
      "text/plain": [
       "'https://order-order.com/2022/05/07/saturday-7-up-179/'"
      ]
     },
     "execution_count": 18,
     "metadata": {},
     "output_type": "execute_result"
    }
   ],
   "source": [
    "article_index = 3\n",
    "print(articleDetails.iloc[[article_index]])\n",
    "articleDetails.iloc[[article_index]].Link[article_index]"
   ]
  }
 ],
 "metadata": {
  "interpreter": {
   "hash": "e7370f93d1d0cde622a1f8e1c04877d8463912d04d973331ad4851f04de6915a"
  },
  "kernelspec": {
   "display_name": "Python 3.10.4 64-bit",
   "language": "python",
   "name": "python3"
  },
  "language_info": {
   "codemirror_mode": {
    "name": "ipython",
    "version": 3
   },
   "file_extension": ".py",
   "mimetype": "text/x-python",
   "name": "python",
   "nbconvert_exporter": "python",
   "pygments_lexer": "ipython3",
   "version": "3.10.4"
  },
  "orig_nbformat": 4
 },
 "nbformat": 4,
 "nbformat_minor": 2
}
