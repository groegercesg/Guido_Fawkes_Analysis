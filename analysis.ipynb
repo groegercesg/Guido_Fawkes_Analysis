{
 "cells": [
  {
   "cell_type": "code",
   "execution_count": 19,
   "metadata": {},
   "outputs": [],
   "source": [
    "import pandas as pd\n",
    "import re\n",
    "articleDetails = pd.read_pickle('article_details.pkl')"
   ]
  },
  {
   "cell_type": "code",
   "execution_count": 20,
   "metadata": {},
   "outputs": [],
   "source": [
    "# Remove article posted on 2015-01-03, because it has no details about vistors/times/views\n",
    "articleDetails = articleDetails.drop([articleDetails.loc[articleDetails['Date'] == \"2015-01-03\"].index[0]])\n",
    "# Remove article posted with the title of \"Annual Seven-Up\"\n",
    "articleDetails = articleDetails.drop([articleDetails.loc[articleDetails['Title'] == \"Annual Seven-Up\"].index[0]])\n",
    "# Remove article posted on 2022-03-19, because it has no details about visitors/times/views\n",
    "articleDetails = articleDetails.drop([articleDetails.loc[articleDetails['Date'] == \"2022-03-19\"].index[0]])"
   ]
  },
  {
   "cell_type": "code",
   "execution_count": 21,
   "metadata": {},
   "outputs": [],
   "source": [
    "# Get visitor information: visitor count, visit count, page view count\n",
    "def getVisitorNumbers(string):\n",
    "    pre_split_size = len(string)\n",
    "    post_split_size = len(string.split(\"visitors\", 1)[0])\n",
    "    if pre_split_size != post_split_size:\n",
    "        visitors = int(re.search(r'\\d+', string.split(\"visitors\", 1)[0].replace(\",\", \"\")[::-1]).group()[::-1])\n",
    "    else:\n",
    "        visitors = int(0)\n",
    "    return visitors\n",
    "\n",
    "def getVistTimesNumbers(string):\n",
    "    pre_split_size = len(string)\n",
    "    post_split_size = len(string.split(\"times\", 1)[0])\n",
    "    if pre_split_size != post_split_size:\n",
    "        visits = int(re.search(r'\\d+', string.split(\"times\", 1)[0].replace(\",\", \"\")[::-1]).group()[::-1])\n",
    "    else:\n",
    "        pre_split_size = len(string)\n",
    "        post_split_size = len(string.split(\"visits\", 1)[0])\n",
    "        if pre_split_size != post_split_size:\n",
    "            visits = int(re.search(r'\\d+', string.split(\"visits\", 1)[0].replace(\",\", \"\")[::-1]).group()[::-1])\n",
    "        else:\n",
    "            visits = int(0)\n",
    "    return visits\n",
    "\n",
    "def getPageViewNumbers(string):\n",
    "    pre_split_size = len(string)\n",
    "    post_split_size = len(string.split(\"pages\", 1)[0])\n",
    "    if pre_split_size != post_split_size:\n",
    "        visits = int(re.search(r'\\d+', string.split(\"pages\", 1)[0].replace(\",\", \"\")[::-1]).group()[::-1])\n",
    "    else:\n",
    "        pre_split_size = len(string)\n",
    "        post_split_size = len(string.split(\"pageviews\", 1)[0])\n",
    "        if pre_split_size != post_split_size:\n",
    "            visits = int(re.search(r'\\d+', string.split(\"pageviews\", 1)[0].replace(\",\", \"\")[::-1]).group()[::-1])\n",
    "        else:\n",
    "            visits = int(0)\n",
    "    return visits"
   ]
  },
  {
   "cell_type": "code",
   "execution_count": 22,
   "metadata": {},
   "outputs": [],
   "source": [
    "articleDetails['Visitors'] = articleDetails.apply(lambda row : getVisitorNumbers(row['Article Details']), axis = 1)\n",
    "articleDetails['Visits'] = articleDetails.apply(lambda row : getVistTimesNumbers(row['Article Details']), axis = 1)\n",
    "articleDetails['Page Visits'] = articleDetails.apply(lambda row : getPageViewNumbers(row['Article Details']), axis = 1)\n",
    "\n",
    "# Remove article posted on 2010-11-06, because it has no details about visitors\n",
    "articleDetails = articleDetails.drop([articleDetails.loc[articleDetails['Date'] == \"2010-11-06\"].index[0]])"
   ]
  },
  {
   "cell_type": "code",
   "execution_count": 23,
   "metadata": {},
   "outputs": [
    {
     "data": {
      "text/html": [
       "<div>\n",
       "<style scoped>\n",
       "    .dataframe tbody tr th:only-of-type {\n",
       "        vertical-align: middle;\n",
       "    }\n",
       "\n",
       "    .dataframe tbody tr th {\n",
       "        vertical-align: top;\n",
       "    }\n",
       "\n",
       "    .dataframe thead th {\n",
       "        text-align: right;\n",
       "    }\n",
       "</style>\n",
       "<table border=\"1\" class=\"dataframe\">\n",
       "  <thead>\n",
       "    <tr style=\"text-align: right;\">\n",
       "      <th></th>\n",
       "      <th>Date</th>\n",
       "      <th>Link</th>\n",
       "      <th>Title</th>\n",
       "      <th>Article Details</th>\n",
       "      <th>Post Time</th>\n",
       "      <th>List Links</th>\n",
       "      <th>Number of Links</th>\n",
       "      <th>Visitors</th>\n",
       "      <th>Visits</th>\n",
       "      <th>Page Visits</th>\n",
       "    </tr>\n",
       "  </thead>\n",
       "  <tbody>\n",
       "    <tr>\n",
       "      <th>0</th>\n",
       "      <td>2022-06-04</td>\n",
       "      <td>https://order-order.com/2022/06/04/saturday-7-...</td>\n",
       "      <td>Saturday 7-Up</td>\n",
       "      <td>This week 158,742 visitors visited 452,385 tim...</td>\n",
       "      <td>07:35</td>\n",
       "      <td>[EXCLUSIVE: Yvette Cooper’s Son Led Trans Righ...</td>\n",
       "      <td>7</td>\n",
       "      <td>158742</td>\n",
       "      <td>452385</td>\n",
       "      <td>699803</td>\n",
       "    </tr>\n",
       "    <tr>\n",
       "      <th>1</th>\n",
       "      <td>2022-05-28</td>\n",
       "      <td>https://order-order.com/2022/05/28/saturday-7-...</td>\n",
       "      <td>Saturday 7-Up</td>\n",
       "      <td>This week 192,138 visitors visited 604,322 tim...</td>\n",
       "      <td>07:30</td>\n",
       "      <td>[Jess Phillips Investigation Concludes Multipl...</td>\n",
       "      <td>7</td>\n",
       "      <td>192138</td>\n",
       "      <td>604322</td>\n",
       "      <td>966584</td>\n",
       "    </tr>\n",
       "    <tr>\n",
       "      <th>2</th>\n",
       "      <td>2022-05-21</td>\n",
       "      <td>https://order-order.com/2022/05/21/saturday-7-...</td>\n",
       "      <td>Saturday 7-Up</td>\n",
       "      <td>This week 201,390 visitors visited 582,067 tim...</td>\n",
       "      <td>07:30</td>\n",
       "      <td>[Andrew Rosindell’s Office Not Answering Queri...</td>\n",
       "      <td>7</td>\n",
       "      <td>201390</td>\n",
       "      <td>582067</td>\n",
       "      <td>944991</td>\n",
       "    </tr>\n",
       "    <tr>\n",
       "      <th>3</th>\n",
       "      <td>2022-05-07</td>\n",
       "      <td>https://order-order.com/2022/05/07/saturday-7-...</td>\n",
       "      <td>Saturday 7-Up</td>\n",
       "      <td>This week 161,673 visitors visited 489,154 tim...</td>\n",
       "      <td>07:30</td>\n",
       "      <td>[LibDem Candidate’s Pornstar Sideline Revealed...</td>\n",
       "      <td>7</td>\n",
       "      <td>161673</td>\n",
       "      <td>489154</td>\n",
       "      <td>765033</td>\n",
       "    </tr>\n",
       "    <tr>\n",
       "      <th>4</th>\n",
       "      <td>2022-04-30</td>\n",
       "      <td>https://order-order.com/2022/04/30/saturday-7-...</td>\n",
       "      <td>Saturday 7-Up</td>\n",
       "      <td>This week 185,091 visitors visited 548,002 tim...</td>\n",
       "      <td>07:30</td>\n",
       "      <td>[Flashback: What They Said At the Time, READ I...</td>\n",
       "      <td>7</td>\n",
       "      <td>185091</td>\n",
       "      <td>548002</td>\n",
       "      <td>868770</td>\n",
       "    </tr>\n",
       "  </tbody>\n",
       "</table>\n",
       "</div>"
      ],
      "text/plain": [
       "        Date                                               Link  \\\n",
       "0 2022-06-04  https://order-order.com/2022/06/04/saturday-7-...   \n",
       "1 2022-05-28  https://order-order.com/2022/05/28/saturday-7-...   \n",
       "2 2022-05-21  https://order-order.com/2022/05/21/saturday-7-...   \n",
       "3 2022-05-07  https://order-order.com/2022/05/07/saturday-7-...   \n",
       "4 2022-04-30  https://order-order.com/2022/04/30/saturday-7-...   \n",
       "\n",
       "           Title                                    Article Details Post Time  \\\n",
       "0  Saturday 7-Up  This week 158,742 visitors visited 452,385 tim...     07:35   \n",
       "1  Saturday 7-Up  This week 192,138 visitors visited 604,322 tim...     07:30   \n",
       "2  Saturday 7-Up  This week 201,390 visitors visited 582,067 tim...     07:30   \n",
       "3  Saturday 7-Up  This week 161,673 visitors visited 489,154 tim...     07:30   \n",
       "4  Saturday 7-Up  This week 185,091 visitors visited 548,002 tim...     07:30   \n",
       "\n",
       "                                          List Links  Number of Links  \\\n",
       "0  [EXCLUSIVE: Yvette Cooper’s Son Led Trans Righ...                7   \n",
       "1  [Jess Phillips Investigation Concludes Multipl...                7   \n",
       "2  [Andrew Rosindell’s Office Not Answering Queri...                7   \n",
       "3  [LibDem Candidate’s Pornstar Sideline Revealed...                7   \n",
       "4  [Flashback: What They Said At the Time, READ I...                7   \n",
       "\n",
       "   Visitors  Visits  Page Visits  \n",
       "0    158742  452385       699803  \n",
       "1    192138  604322       966584  \n",
       "2    201390  582067       944991  \n",
       "3    161673  489154       765033  \n",
       "4    185091  548002       868770  "
      ]
     },
     "execution_count": 23,
     "metadata": {},
     "output_type": "execute_result"
    }
   ],
   "source": [
    "articleDetails.head()"
   ]
  },
  {
   "cell_type": "code",
   "execution_count": 45,
   "metadata": {},
   "outputs": [
    {
     "data": {
      "image/png": "[encoded data removed]",
      "text/plain": [
       "<Figure size 432x288 with 1 Axes>"
      ]
     },
     "metadata": {
      "needs_background": "light"
     },
     "output_type": "display_data"
    },
    {
     "name": "stdout",
     "output_type": "stream",
     "text": [
      "(255483.35486173257, 738310)\n",
      "(120733.88548592478, 734201)\n",
      "32.79373798389092\n"
     ]
    }
   ],
   "source": [
    "import matplotlib.pyplot as plt\n",
    "import numpy as np\n",
    "import datetime\n",
    "\n",
    "plt.plot(articleDetails['Date'], articleDetails['Visitors'], color='blue', label=\"Visitors\")\n",
    "\n",
    "# To perform the linear regression we need the dates to be numeric\n",
    "articleDetails['Date_num'] = articleDetails['Date'].map(datetime.date.toordinal)\n",
    "\n",
    "#calculate equation for trendline\n",
    "z = np.polyfit(articleDetails['Date_num'],articleDetails['Visitors'], 1)\n",
    "p = np.poly1d(z)\n",
    "\n",
    "#add trendline to plot\n",
    "plt.plot(articleDetails['Date'], p(articleDetails['Date_num']), color='red', label=\"Trendline\", linestyle='dashed')\n",
    "\n",
    "\n",
    "plt.legend()\n",
    "plt.show()\n",
    "\n",
    "print(\"(\" + str(p(articleDetails['Date_num'][0])) + \", \" + str(articleDetails['Date_num'][0]) + \")\")\n",
    "print(\"(\" + str(p(articleDetails['Date_num'][476])) + \", \" + str(articleDetails['Date_num'][476]) + \")\")\n",
    "\n",
    "print((p(articleDetails['Date_num'][0])-p(articleDetails['Date_num'][476]))/(articleDetails['Date_num'][0]-articleDetails['Date_num'][476]))"
   ]
  }
 ],
 "metadata": {
  "interpreter": {
   "hash": "e7370f93d1d0cde622a1f8e1c04877d8463912d04d973331ad4851f04de6915a"
  },
  "kernelspec": {
   "display_name": "Python 3.10.4 64-bit",
   "language": "python",
   "name": "python3"
  },
  "language_info": {
   "codemirror_mode": {
    "name": "ipython",
    "version": 3
   },
   "file_extension": ".py",
   "mimetype": "text/x-python",
   "name": "python",
   "nbconvert_exporter": "python",
   "pygments_lexer": "ipython3",
   "version": "3.10.4"
  },
  "orig_nbformat": 4
 },
 "nbformat": 4,
 "nbformat_minor": 2
}
